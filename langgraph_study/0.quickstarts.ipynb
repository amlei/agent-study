{
 "cells": [
  {
   "cell_type": "markdown",
   "id": "7e8df021",
   "metadata": {},
   "source": [
    "# Get Stared"
   ]
  },
  {
   "cell_type": "code",
   "execution_count": 10,
   "id": "b5f66415",
   "metadata": {},
   "outputs": [
    {
     "data": {
      "text/plain": [
       "True"
      ]
     },
     "execution_count": 10,
     "metadata": {},
     "output_type": "execute_result"
    }
   ],
   "source": [
    "import os\n",
    "from langgraph.prebuilt import create_react_agent\n",
    "from dotenv import load_dotenv\n",
    "from langchain_community.chat_models.tongyi import ChatTongyi\n",
    "from langchain.chat_models import init_chat_model\n",
    "\n",
    "load_dotenv()\n"
   ]
  },
  {
   "cell_type": "code",
   "execution_count": null,
   "id": "aa790aaa",
   "metadata": {},
   "outputs": [
    {
     "data": {
      "text/plain": [
       "{'messages': [HumanMessage(content='What is the wather in sf?', additional_kwargs={}, response_metadata={}, id='32ef4ec7-1652-44b7-b6d8-895dfb110ec0'),\n",
       "  AIMessage(content='', additional_kwargs={'tool_calls': [{'index': 0, 'id': 'call_cda7ad59184b4c69a57d2f', 'type': 'function', 'function': {'name': 'get_weather', 'arguments': '{\"city\": \"sf\"}'}}]}, response_metadata={'model_name': 'qwen-plus', 'finish_reason': 'tool_calls', 'request_id': 'be77575e-5819-9124-8d3b-e2f54ccd1240', 'token_usage': {'input_tokens': 215, 'output_tokens': 19, 'total_tokens': 234, 'prompt_tokens_details': {'cached_tokens': 0}}}, id='run--8a7dd04a-1b12-41a8-8e8f-b33d302ccbcb-0', tool_calls=[{'name': 'get_weather', 'args': {'city': 'sf'}, 'id': 'call_cda7ad59184b4c69a57d2f', 'type': 'tool_call'}]),\n",
       "  ToolMessage(content='The weather in sf is sunny.', name='get_weather', id='8584d06d-a6b6-4e93-bd7e-e093dbf007aa', tool_call_id='call_cda7ad59184b4c69a57d2f'),\n",
       "  AIMessage(content='The weather in San Francisco (SF) is sunny.', additional_kwargs={}, response_metadata={'model_name': 'qwen-plus', 'finish_reason': 'stop', 'request_id': 'ab4590a9-bc4f-90cf-8bfc-29d550b0da84', 'token_usage': {'input_tokens': 254, 'output_tokens': 11, 'total_tokens': 265, 'prompt_tokens_details': {'cached_tokens': 0}}}, id='run--5d280049-cae2-4097-90b2-868879943e0d-0')]}"
      ]
     },
     "execution_count": 12,
     "metadata": {},
     "output_type": "execute_result"
    }
   ],
   "source": [
    "def get_weather(city: str) -> str:\n",
    "    # Simulate a weather API call\n",
    "    \"\"\" 返回指定城市的天气信息\n",
    "    args:\n",
    "        city(str): 城市名称\n",
    "    return:\n",
    "        str: 城市的天气信息\n",
    "    description:\n",
    "        该函数通过模拟API调用返回指定城市的天气信息。\n",
    "    \"\"\"\n",
    "    return f\"The weather in {city} is sunny.\"\n",
    "\n",
    "model = ChatTongyi(\n",
    "    model=\"qwen-plus\",\n",
    "    temperature=0\n",
    ")\n",
    "\n",
    "agent = create_react_agent(\n",
    "    model=model,\n",
    "    tools=[get_weather],\n",
    "    prompt=\"You are a helpful assistant that can provide weather information.\"\n",
    ")\n",
    "\n",
    "agent.invoke(\n",
    "    {\n",
    "        \"messages\": [{\"role\": \"user\", \"content\": \"What is the wather in sf?\"}]\n",
    "    }\n",
    ")"
   ]
  },
  {
   "cell_type": "markdown",
   "id": "05bbd270",
   "metadata": {},
   "source": [
    "## Add Memory"
   ]
  },
  {
   "cell_type": "code",
   "execution_count": 17,
   "id": "1cc4d254",
   "metadata": {},
   "outputs": [],
   "source": [
    "from langgraph.checkpoint.memory import InMemorySaver\n",
    "\n",
    "checkpointer = InMemorySaver()\n",
    "\n",
    "agent = create_react_agent(\n",
    "    model=model,\n",
    "    tools=[get_weather],\n",
    "    checkpointer=checkpointer\n",
    ")\n",
    "\n",
    "config = {\n",
    "    \"configurable\": {\"thread_id\": \"1\"}\n",
    "}\n",
    "\n",
    "sf_response = agent.invoke(\n",
    "    {\n",
    "        \"messages\": [{\"role\": \"user\", \"content\": \"What is the weather in sf?\"}]\n",
    "    },config\n",
    ")\n",
    "\n",
    "ny_response = agent.invoke(\n",
    "    {\"messages\": [{\"role\": \"user\", \"content\": \"What about new york?\"}]}, config\n",
    ")"
   ]
  },
  {
   "cell_type": "code",
   "execution_count": 18,
   "id": "cf8e163f",
   "metadata": {},
   "outputs": [
    {
     "data": {
      "text/plain": [
       "{'messages': [HumanMessage(content='What is the weather in sf?', additional_kwargs={}, response_metadata={}, id='75b63fae-bbfa-4e5f-b01c-f388b8dd2cb7'),\n",
       "  AIMessage(content='', additional_kwargs={'tool_calls': [{'index': 0, 'id': 'call_c209c2b52be6472d949629', 'type': 'function', 'function': {'name': 'get_weather', 'arguments': '{\"city\": \"sf\"}'}}]}, response_metadata={'model_name': 'qwen-plus', 'finish_reason': 'tool_calls', 'request_id': '27e18d5c-22b2-92c0-9fc8-aa8c9d710297', 'token_usage': {'input_tokens': 203, 'output_tokens': 19, 'total_tokens': 222, 'prompt_tokens_details': {'cached_tokens': 0}}}, id='run--845d75d4-e4dc-4315-8fdd-089c80b4f139-0', tool_calls=[{'name': 'get_weather', 'args': {'city': 'sf'}, 'id': 'call_c209c2b52be6472d949629', 'type': 'tool_call'}]),\n",
       "  ToolMessage(content='The weather in sf is sunny.', name='get_weather', id='4ddb2f2e-f86e-4d96-84dc-ce84dcebfea8', tool_call_id='call_c209c2b52be6472d949629'),\n",
       "  AIMessage(content='The weather in San Francisco is sunny.', additional_kwargs={}, response_metadata={'model_name': 'qwen-plus', 'finish_reason': 'stop', 'request_id': 'ab59d2ae-0d2e-930a-a9b8-3e7d6456e506', 'token_usage': {'input_tokens': 242, 'output_tokens': 8, 'total_tokens': 250, 'prompt_tokens_details': {'cached_tokens': 0}}}, id='run--00008bfc-c8c2-441a-9db1-ccf19cc67b4a-0')]}"
      ]
     },
     "execution_count": 18,
     "metadata": {},
     "output_type": "execute_result"
    }
   ],
   "source": [
    "sf_response"
   ]
  },
  {
   "cell_type": "code",
   "execution_count": 19,
   "id": "cd53ff3e",
   "metadata": {},
   "outputs": [
    {
     "data": {
      "text/plain": [
       "{'messages': [HumanMessage(content='What is the weather in sf?', additional_kwargs={}, response_metadata={}, id='75b63fae-bbfa-4e5f-b01c-f388b8dd2cb7'),\n",
       "  AIMessage(content='', additional_kwargs={'tool_calls': [{'index': 0, 'id': 'call_c209c2b52be6472d949629', 'type': 'function', 'function': {'name': 'get_weather', 'arguments': '{\"city\": \"sf\"}'}}]}, response_metadata={'model_name': 'qwen-plus', 'finish_reason': 'tool_calls', 'request_id': '27e18d5c-22b2-92c0-9fc8-aa8c9d710297', 'token_usage': {'input_tokens': 203, 'output_tokens': 19, 'total_tokens': 222, 'prompt_tokens_details': {'cached_tokens': 0}}}, id='run--845d75d4-e4dc-4315-8fdd-089c80b4f139-0', tool_calls=[{'name': 'get_weather', 'args': {'city': 'sf'}, 'id': 'call_c209c2b52be6472d949629', 'type': 'tool_call'}]),\n",
       "  ToolMessage(content='The weather in sf is sunny.', name='get_weather', id='4ddb2f2e-f86e-4d96-84dc-ce84dcebfea8', tool_call_id='call_c209c2b52be6472d949629'),\n",
       "  AIMessage(content='The weather in San Francisco is sunny.', additional_kwargs={}, response_metadata={'model_name': 'qwen-plus', 'finish_reason': 'stop', 'request_id': 'ab59d2ae-0d2e-930a-a9b8-3e7d6456e506', 'token_usage': {'input_tokens': 242, 'output_tokens': 8, 'total_tokens': 250, 'prompt_tokens_details': {'cached_tokens': 0}}}, id='run--00008bfc-c8c2-441a-9db1-ccf19cc67b4a-0'),\n",
       "  HumanMessage(content='What about new york?', additional_kwargs={}, response_metadata={}, id='f15f9f35-48db-4798-9bf2-bad75602226f'),\n",
       "  AIMessage(content='', additional_kwargs={'tool_calls': [{'index': 0, 'id': 'call_4c680d7234f44edab5b88c', 'type': 'function', 'function': {'name': 'get_weather', 'arguments': '{\"city\": \"new york\"}'}}]}, response_metadata={'model_name': 'qwen-plus', 'finish_reason': 'tool_calls', 'request_id': '93fc1b1e-a8f9-928c-a057-bc8f978adf58', 'token_usage': {'input_tokens': 265, 'output_tokens': 20, 'total_tokens': 285, 'prompt_tokens_details': {'cached_tokens': 128}}}, id='run--00667899-9e3e-4461-8f56-881e43100eb3-0', tool_calls=[{'name': 'get_weather', 'args': {'city': 'new york'}, 'id': 'call_4c680d7234f44edab5b88c', 'type': 'tool_call'}]),\n",
       "  ToolMessage(content='The weather in new york is sunny.', name='get_weather', id='9254a9b6-9016-4227-9be9-7055558f9fc6', tool_call_id='call_4c680d7234f44edab5b88c'),\n",
       "  AIMessage(content='The weather in New York is sunny.', additional_kwargs={}, response_metadata={'model_name': 'qwen-plus', 'finish_reason': 'stop', 'request_id': '2ea3503c-2850-927d-94dc-c93db579aaf3', 'token_usage': {'input_tokens': 306, 'output_tokens': 8, 'total_tokens': 314, 'prompt_tokens_details': {'cached_tokens': 192}}}, id='run--0ca4df2e-b787-4872-93ea-9d41c1e91e6c-0')]}"
      ]
     },
     "execution_count": 19,
     "metadata": {},
     "output_type": "execute_result"
    }
   ],
   "source": [
    "ny_response"
   ]
  },
  {
   "cell_type": "markdown",
   "id": "f08b15cf",
   "metadata": {},
   "source": [
    "## 自定义结构化输出"
   ]
  },
  {
   "cell_type": "code",
   "execution_count": 20,
   "id": "c5cbee08",
   "metadata": {},
   "outputs": [],
   "source": [
    "from pydantic import BaseModel"
   ]
  },
  {
   "cell_type": "code",
   "execution_count": 22,
   "id": "e43a3208",
   "metadata": {},
   "outputs": [],
   "source": [
    "class WeatherResponse(BaseModel):\n",
    "    conditions: str\n",
    "    \n",
    "agent = create_react_agent(\n",
    "    model=model,\n",
    "    tools=[get_weather],\n",
    "    response_format=WeatherResponse\n",
    ")\n",
    "\n",
    "response = agent.invoke(\n",
    "    {\"messages\": [{\"role\": \"user\", \"content\": \"What is the weather in sf?\"}]}\n",
    ")\n",
    "\n",
    "response[\"structured_response\"]"
   ]
  },
  {
   "cell_type": "code",
   "execution_count": null,
   "id": "76ad9902",
   "metadata": {},
   "outputs": [
    {
     "data": {
      "text/plain": [
       "{'messages': [HumanMessage(content='What is the weather in sf?', additional_kwargs={}, response_metadata={}, id='4ae4740d-6a40-4cd5-a1b1-e99c957a0ba2'),\n",
       "  AIMessage(content='', additional_kwargs={'tool_calls': [{'index': 0, 'id': 'call_ba42d87240c84ffeae9cee', 'type': 'function', 'function': {'name': 'get_weather', 'arguments': '{\"city\": \"sf\"}'}}]}, response_metadata={'model_name': 'qwen-plus', 'finish_reason': 'tool_calls', 'request_id': '0d9af230-35d0-9f08-9b08-b81c546f42d5', 'token_usage': {'input_tokens': 203, 'output_tokens': 19, 'total_tokens': 222, 'prompt_tokens_details': {'cached_tokens': 0}}}, id='run--4164c91a-7839-4875-9486-2eb09033aab4-0', tool_calls=[{'name': 'get_weather', 'args': {'city': 'sf'}, 'id': 'call_ba42d87240c84ffeae9cee', 'type': 'tool_call'}]),\n",
       "  ToolMessage(content='The weather in sf is sunny.', name='get_weather', id='ccd6a69e-af08-4086-b41d-8682dd1d7255', tool_call_id='call_ba42d87240c84ffeae9cee'),\n",
       "  AIMessage(content='The weather in San Francisco is sunny.', additional_kwargs={}, response_metadata={'model_name': 'qwen-plus', 'finish_reason': 'stop', 'request_id': '51043c69-fdb8-9676-a68f-df922b008466', 'token_usage': {'input_tokens': 242, 'output_tokens': 8, 'total_tokens': 250, 'prompt_tokens_details': {'cached_tokens': 0}}}, id='run--ba4c0c02-9569-434d-9f94-bd40c6536653-0')],\n",
       " 'structured_response': None}"
      ]
     },
     "execution_count": 25,
     "metadata": {},
     "output_type": "execute_result"
    }
   ],
   "source": [
    "~response"
   ]
  },
  {
   "cell_type": "markdown",
   "id": "29bba172",
   "metadata": {},
   "source": [
    "## 添加人机交互"
   ]
  },
  {
   "cell_type": "code",
   "execution_count": 1,
   "id": "f943a259",
   "metadata": {},
   "outputs": [],
   "source": [
    "import os\n",
    "from dotenv import load_dotenv\n",
    "from langchain_community.chat_models.tongyi import ChatTongyi\n",
    "\n",
    "load_dotenv()\n",
    "\n",
    "llm = ChatTongyi(\n",
    "    model=\"qwen-plus\",\n",
    "    temperature=0.7\n",
    ")"
   ]
  },
  {
   "cell_type": "code",
   "execution_count": null,
   "id": "3329beb2",
   "metadata": {},
   "outputs": [
    {
     "data": {
      "text/plain": [
       "<langgraph.graph.state.StateGraph at 0x1dab4ae4980>"
      ]
     },
     "execution_count": 2,
     "metadata": {},
     "output_type": "execute_result"
    }
   ],
   "source": [
    "from typing import Annotated\n",
    "from langchain_tavily import TavilySearch\n",
    "from langchain.tools import tool\n",
    "from typing_extensions import TypedDict\n",
    "from langgraph.graph import StateGraph, START, END\n",
    "from langgraph.graph.message import add_messages\n",
    "from langgraph.prebuilt import ToolNode, tools_condition\n",
    "\n",
    "from langgraph.types import Command, interrupt\n",
    "\n",
    "class State(TypedDict):\n",
    "    messages: Annotated[list, add_messages]\n",
    "    name: str\n",
    "    birthday: str\n",
    "    \n",
    "graph_builder = StateGraph(State)\n",
    "\n",
    "@tool\n",
    "def human_assistance(query: str) -> str:\n",
    "    \"\"\"Provide assistance to the user based on the query.\n",
    "\n",
    "    Args:\n",
    "        query (str): The user's query.\n",
    "\n",
    "    Returns:\n",
    "        str: The assistant's response.\n",
    "    \"\"\"\n",
    "    # Implement the logic to provide assistance\n",
    "\n",
    "    human_response = interrupt({\"query\": query})\n",
    "    return human_response['data']\n",
    "\n",
    "\n",
    "tool = TavilySearch(max_results=2)\n",
    "tools = [tool, human_assistance]\n",
    "llm_with_tools = llm.bind_tools(tools)\n",
    "\n",
    "def chatbot(state: State):\n",
    "    message = llm_with_tools.invoke(\n",
    "        state['messages']\n",
    "    )\n",
    "    \n",
    "    assert len(message.tool_calls) <= 1\n",
    "    return {\n",
    "        \"messages\": [message]\n",
    "    }\n",
    "    \n",
    "graph_builder.add_node(\"chatbot\", chatbot)\n",
    "\n",
    "tool_node = ToolNode(\n",
    "    tools=tools\n",
    ")\n",
    "graph_builder.add_node(\"tools\", tool_node)\n",
    "\n",
    "graph_builder.add_conditional_edges(\n",
    "    \"chatbot\",\n",
    "    tools_condition\n",
    ")\n",
    "graph_builder.add_edge(\"tools\", \"chatbot\")\n",
    "graph_builder.add_edge(START, \"chatbot\")\n"
   ]
  },
  {
   "cell_type": "code",
   "execution_count": null,
   "id": "22539408",
   "metadata": {},
   "outputs": [],
   "source": [
    "ateGraph(State)\n",
    "\n",
    "@tool\n",
    "def human_assistance(query: str) -> str:\n",
    "    \"\"\"Provide assistance to the user based on the query.\n",
    "\n",
    "    Args:\n",
    "        query (str): The user's query.\n",
    "\n",
    "    Returns:\n",
    "        str: The assistant's response.\n",
    "    \"\"\"\n",
    "    # Implement the logic to provide assistance\n",
    "\n",
    "    human_response = interrupt({\"query\": query})\n",
    "    return human_response['data']\n",
    "\n",
    "\n",
    "tool = TavilySearch(max_results=2)\n",
    "tools = [tool, human_assistance]\n",
    "llm_with_tools = llm.bind_tools(tools)\n",
    "\n",
    "def chatbot(state: State):\n",
    "    message = llm_with_tools.invoke(\n",
    "        state['messages']\n",
    "    )\n",
    "    \n",
    "    assert len(message.tool_calls) <= 1\n",
    "    return {\n",
    "        \"messages\": [message]\n",
    "    }\n",
    "    \n",
    "graph_builder.add_node(\"chatbot\", chatbot)\n",
    "\n",
    "tool_node = ToolNode(\n",
    "    tools=tools\n",
    ")\n",
    "graph_builder.add_node(\"tools\", tool_node)\n",
    "\n",
    "graph_builder.add_conditional_edges(\n",
    "    \"chatbot\",\n",
    "    tools_condition\n",
    ")\n",
    "graph_builder.add_edge(\"tools\", \"chatbot\")\n",
    "graph_builder.add_edge(START, \"chatbot\")\n"
   ]
  },
  {
   "cell_type": "markdown",
   "id": "eeea73e5",
   "metadata": {},
   "source": [
    "绑定图"
   ]
  },
  {
   "cell_type": "code",
   "execution_count": 3,
   "id": "7c67f3af",
   "metadata": {},
   "outputs": [],
   "source": [
    "from langgraph.checkpoint.memory import InMemorySaver\n",
    "memory = InMemorySaver()\n",
    "\n",
    "graph = graph_builder.compile(checkpointer=memory)"
   ]
  },
  {
   "cell_type": "markdown",
   "id": "241dfcab",
   "metadata": {},
   "source": [
    "可视化图"
   ]
  },
  {
   "cell_type": "code",
   "execution_count": 4,
   "id": "bf1cb184",
   "metadata": {},
   "outputs": [
    {
     "data": {
      "image/png": "[encoded data removed]",
      "text/plain": [
       "<IPython.core.display.Image object>"
      ]
     },
     "metadata": {},
     "output_type": "display_data"
    }
   ],
   "source": [
    "from IPython.display import Image, display\n",
    "try:\n",
    "    display(Image(graph.get_graph().draw_mermaid_png()))\n",
    "except Exception:\n",
    "    pass"
   ]
  },
  {
   "cell_type": "code",
   "execution_count": 5,
   "id": "99efabba",
   "metadata": {},
   "outputs": [
    {
     "name": "stdout",
     "output_type": "stream",
     "text": [
      "================================\u001b[1m Human Message \u001b[0m=================================\n",
      "\n",
      "I need some expert guidance for building an AI agent. Could you request assistance for me?\n",
      "==================================\u001b[1m Ai Message \u001b[0m==================================\n",
      "Tool Calls:\n",
      "  human_assistance (call_9933f13209ab4d5495f62a)\n",
      " Call ID: call_9933f13209ab4d5495f62a\n",
      "  Args:\n",
      "    query: I need some expert guidance for building an AI agent. Could you request assistance for me?\n"
     ]
    }
   ],
   "source": [
    "user_input = \"I need some expert guidance for building an AI agent. Could you request assistance for me?\"\n",
    "config = {\"configurable\": {\"thread_id\": \"1\"}}\n",
    "\n",
    "events = graph.stream(\n",
    "    {\"messages\": [{\"role\": \"user\", \"content\": user_input}]},\n",
    "    config,\n",
    "    stream_mode=\"values\",\n",
    ")\n",
    "for event in events:\n",
    "    if \"messages\" in event:\n",
    "        event[\"messages\"][-1].pretty_print()"
   ]
  },
  {
   "cell_type": "code",
   "execution_count": 6,
   "id": "935049d7",
   "metadata": {},
   "outputs": [
    {
     "data": {
      "text/plain": [
       "('tools',)"
      ]
     },
     "execution_count": 6,
     "metadata": {},
     "output_type": "execute_result"
    }
   ],
   "source": [
    "snapshot = graph.get_state(config)\n",
    "snapshot.next"
   ]
  },
  {
   "cell_type": "markdown",
   "id": "b58cc42c",
   "metadata": {},
   "source": [
    "恢复执行"
   ]
  },
  {
   "cell_type": "code",
   "execution_count": 9,
   "id": "3fcf3384",
   "metadata": {},
   "outputs": [
    {
     "name": "stdout",
     "output_type": "stream",
     "text": [
      "==================================\u001b[1m Ai Message \u001b[0m==================================\n",
      "\n",
      "We're here to help you every step of the way!\n",
      "\n",
      "For building an AI agent, we recommend checking out LangGraph. It's a powerful framework that offers greater reliability and extensibility compared to simple autonomous agents. Would you like us to provide more specific guidance about using LangGraph for your particular use case?\n"
     ]
    }
   ],
   "source": [
    "human_response = (\n",
    "    \"We, the experts are here to help! We'd recommend you check out LangGraph to build your agent.\"\n",
    "    \"It's much more reliable and extensible than simple autonomous agents.\"\n",
    ")\n",
    "\n",
    "human_command = Command(resume={\"data\": human_response})\n",
    "\n",
    "events = graph.stream(human_command, config, stream_mode=\"values\")\n",
    "for event in events:\n",
    "    if \"messages\" in event:\n",
    "        event[\"messages\"][-1].pretty_print()\n"
   ]
  },
  {
   "cell_type": "markdown",
   "id": "9679deab",
   "metadata": {},
   "source": [
    "## 自定义状态"
   ]
  },
  {
   "cell_type": "code",
   "execution_count": 12,
   "id": "f728dba4",
   "metadata": {},
   "outputs": [],
   "source": [
    "import os\n",
    "from dotenv import load_dotenv\n",
    "load_dotenv()\n",
    "\n",
    "from typing import Annotated\n",
    "from langchain_tavily import TavilySearch\n",
    "from langchain_core.messages import ToolCall\n",
    "from langchain_core.messages import ToolMessage\n",
    "from langchain_core.tools import tool, InjectedToolCallId\n",
    "from typing_extensions import TypedDict\n",
    "\n",
    "from langgraph.checkpoint.memory import MemorySaver\n",
    "from langgraph.graph import StateGraph, START, END\n",
    "from langgraph.graph.message import add_messages\n",
    "from langgraph.prebuilt import ToolNode, tools_condition\n",
    "from langgraph.types import Command, interrupt"
   ]
  },
  {
   "cell_type": "code",
   "execution_count": 13,
   "id": "be951ea3",
   "metadata": {},
   "outputs": [],
   "source": [
    "class State(TypedDict):\n",
    "    message: Annotated[list, add_messages]\n",
    "    name: str\n",
    "    birthday: str\n",
    "    \n",
    "@tool\n",
    "def human_message(name: str, birthday: str, tool_call_id: Annotated[str, InjectedToolCallId]) -> str:\n",
    "    \"\"\"Request assisatance from a human\"\"\"\n",
    "    human_response = interrupt({\n",
    "        \"question\": \"Is this correct?\",\n",
    "        \"name\": name,\n",
    "        \"birthday\": birthday\n",
    "    })\n",
    "    \n",
    "    if human_response.get(\"correct\", \".\").lower().startswith('y'):\n",
    "        verified_name = name\n",
    "        verified_birthday = birthday\n",
    "        response = \"Correct\"\n",
    "    else:\n",
    "        verified_name = human_response.get(\"name\")\n",
    "        verified_birthday = human_response.get(\"birthday\")\n",
    "        response = \"Correct\"\n",
    "    \n",
    "    state_update = {\n",
    "        \"name\": verified_name,\n",
    "        \"birthday\": verified_birthday,\n",
    "        \"messages\": [ToolMessage(response, tool_call_id=tool_call_id)]\n",
    "    }\n",
    "    \n",
    "    return Command(update=state_update)\n"
   ]
  },
  {
   "cell_type": "code",
   "execution_count": 14,
   "id": "270e7394",
   "metadata": {},
   "outputs": [],
   "source": [
    "tool = TavilySearch(max_results=2)\n",
    "tools = [tool, human_assistance]\n",
    "llm_with_tools = llm.bind_tools(tools)"
   ]
  },
  {
   "cell_type": "code",
   "execution_count": 16,
   "id": "c5879575",
   "metadata": {},
   "outputs": [],
   "source": [
    "def chatbot(state: State):\n",
    "    message = llm_with_tools.invoke(\n",
    "        state['messages']\n",
    "    )\n",
    "    return {\"messages\": [message]}\n",
    "\n",
    "graph_builder = StateGraph(State)\n",
    "graph_builder.add_node(\"chatbot\", chatbot)\n",
    "\n",
    "tool_node = ToolNode(tools=tools)\n",
    "graph_builder.add_node(\"tools\", tool_node)\n",
    "\n",
    "graph_builder.add_conditional_edges(\n",
    "    \"chatbot\", tools_condition\n",
    ")\n",
    "\n",
    "graph_builder.add_edge(\"tools\", \"chatbot\")\n",
    "graph_builder.add_edge(START, \"chatbot\")\n",
    "memory = MemorySaver()\n",
    "graph = graph_builder.compile(checkpointer=memory)"
   ]
  },
  {
   "cell_type": "code",
   "execution_count": 17,
   "id": "300e90dd",
   "metadata": {},
   "outputs": [
    {
     "data": {
      "image/png": "[encoded data removed]",
      "text/plain": [
       "<IPython.core.display.Image object>"
      ]
     },
     "metadata": {},
     "output_type": "display_data"
    }
   ],
   "source": [
    "from IPython.display import Image, display\n",
    "\n",
    "try:\n",
    "    display(Image(graph.get_graph().draw_mermaid_png()))\n",
    "except Exception:\n",
    "    pass"
   ]
  }
 ],
 "metadata": {
  "kernelspec": {
   "display_name": "Python 3",
   "language": "python",
   "name": "python3"
  },
  "language_info": {
   "codemirror_mode": {
    "name": "ipython",
    "version": 3
   },
   "file_extension": ".py",
   "mimetype": "text/x-python",
   "name": "python",
   "nbconvert_exporter": "python",
   "pygments_lexer": "ipython3",
   "version": "3.13.3"
  }
 },
 "nbformat": 4,
 "nbformat_minor": 5
}
