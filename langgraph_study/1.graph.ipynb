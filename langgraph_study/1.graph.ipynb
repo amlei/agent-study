{
 "cells": [
  {
   "cell_type": "markdown",
   "id": "4d75e159",
   "metadata": {},
   "source": [
    "# Graphs"
   ]
  },
  {
   "cell_type": "code",
   "execution_count": 3,
   "id": "6bc2317f",
   "metadata": {},
   "outputs": [],
   "source": [
    "from typing_extensions import TypedDict\n",
    "\n",
    "class State(TypedDict):\n",
    "    \"\"\"Agent状态定义\"\"\"\n",
    "    foo: str = \"test_foo\"\n",
    "    bar: list[str] = [\"test_bar\"]"
   ]
  },
  {
   "cell_type": "markdown",
   "id": "b6caa478",
   "metadata": {},
   "source": [
    "多结构 schemas"
   ]
  },
  {
   "cell_type": "code",
   "execution_count": 4,
   "id": "03406797",
   "metadata": {},
   "outputs": [],
   "source": [
    "from langgraph.graph import StateGraph, START, END\n",
    "\n",
    "class InputState(TypedDict):\n",
    "    \"\"\"Agent输入状态定义\"\"\"\n",
    "    user_input: str\n",
    "\n",
    "class OutputState(TypedDict):\n",
    "    \"\"\"Agent输出状态定义\"\"\"\n",
    "    graph_output: str\n",
    "    \n",
    "class OverallState(TypedDict):\n",
    "    \"\"\"\"\"\"\n",
    "    foo: str\n",
    "    user_input: str\n",
    "    graph_output: str\n",
    "    \n",
    "class PrivateState(TypedDict):\n",
    "    bar: str\n",
    "    \n",
    "def node_1(state: InputState) -> OverallState:\n",
    "    return {\"foo\": state[\"user_input\"] + \" name\"}\n",
    "\n",
    "def node_2(state: OutputState) -> PrivateState:\n",
    "    return {\"bar\": state[\"foo\"] + \" is\"}\n",
    "\n",
    "def node_3(state: PrivateState) -> OutputState:\n",
    "    return {\"graph_output\": state[\"bar\"] + \" Lance\"}\n",
    "\n",
    "builder = StateGraph(OverallState, input_shema=InputState, output_schema=OutputState)\n",
    "builder.add_node(\"node_1\", node_1)\n",
    "builder.add_node(\"node_2\", node_2)\n",
    "builder.add_node(\"node_3\", node_3)\n",
    "\n",
    "builder.add_edge(START, \"node_1\")\n",
    "builder.add_edge(\"node_1\", \"node_2\")\n",
    "builder.add_edge(\"node_2\", \"node_3\")\n",
    "builder.add_edge(\"node_3\", END)\n",
    "graph = builder.compile()"
   ]
  },
  {
   "cell_type": "code",
   "execution_count": 5,
   "id": "947bf984",
   "metadata": {},
   "outputs": [
    {
     "data": {
      "image/png": "[encoded data removed]",
      "text/plain": [
       "<IPython.core.display.Image object>"
      ]
     },
     "metadata": {},
     "output_type": "display_data"
    }
   ],
   "source": [
    "# 输出图\n",
    "from IPython.display import Image, display\n",
    "display(Image(graph.get_graph().draw_mermaid_png()))\n",
    "\n",
    "# png_data = graph.get_graph().draw_mermaid_png()\n",
    "# with open(\"graph.png\", \"wb\") as f:\n",
    "#     f.write(png_data)"
   ]
  },
  {
   "cell_type": "markdown",
   "id": "6dcdb164",
   "metadata": {},
   "source": [
    "# State"
   ]
  },
  {
   "cell_type": "markdown",
   "id": "f32d6877",
   "metadata": {},
   "source": [
    "State创建示例"
   ]
  },
  {
   "cell_type": "code",
   "execution_count": 6,
   "id": "7ae4cc2b",
   "metadata": {},
   "outputs": [
    {
     "name": "stdout",
     "output_type": "stream",
     "text": [
      "bar type: <class 'list'>\n",
      " state: {'foo': 'test_foo', 'bar': ['test_bar']}\n"
     ]
    }
   ],
   "source": [
    "# example 1\n",
    "from typing_extensions import TypedDict\n",
    "\n",
    "class State(TypedDict):\n",
    "    foo: str\n",
    "    bar: list[str]\n",
    "\n",
    "state = State(foo=\"test_foo\", bar=[\"test_bar\"])\n",
    "print(f\"bar type: {type(state[\"bar\"])}\\n state: {state}\")"
   ]
  },
  {
   "cell_type": "code",
   "execution_count": 7,
   "id": "1386da56",
   "metadata": {},
   "outputs": [
    {
     "name": "stdout",
     "output_type": "stream",
     "text": [
      "bar type: <class 'list'>\n",
      " state: {'foo': 'test_foo', 'bar': ['test_bar']}\n"
     ]
    }
   ],
   "source": [
    "# example 2\n",
    "from typing import Annotated\n",
    "from typing_extensions import TypedDict\n",
    "# or\n",
    "# from typing import TypedDict\n",
    "from operator import add\n",
    "\n",
    "class State(TypedDict):\n",
    "    foo: str\n",
    "    bar: Annotated[list[str], add]\n",
    "\n",
    "state = State(foo=\"test_foo\", bar=[\"test_bar\"])\n",
    "print(f\"bar type: {type(state[\"bar\"])}\\n state: {state}\")\n"
   ]
  },
  {
   "cell_type": "code",
   "execution_count": 10,
   "id": "2bf2c466",
   "metadata": {},
   "outputs": [
    {
     "name": "stdout",
     "output_type": "stream",
     "text": [
      "{'foo': 'mod_foo', 'bar': ['mod_bar', 'add_bar']}\n"
     ]
    }
   ],
   "source": [
    "# 更改数据\n",
    "state[\"foo\"] = \"mod_foo\"\n",
    "state[\"bar\"] = [\"mod_bar\"]\n",
    "state[\"bar\"].append(\"add_bar\")\n",
    "print(state)"
   ]
  },
  {
   "cell_type": "code",
   "execution_count": 9,
   "id": "a13b2a66",
   "metadata": {},
   "outputs": [
    {
     "name": "stdout",
     "output_type": "stream",
     "text": [
      "bar type: <class 'list'>\n",
      " state: {'foo': 'test_foo', 'bar': ['test_bar']}\n",
      "mod_foo\n",
      "['test_bar', 'mod_bar']\n"
     ]
    }
   ],
   "source": [
    "# 非 State 状态定义\n",
    "class test_state():\n",
    "    def __init__(self, foo: str, bar: list[str]) -> None:\n",
    "        self.foo = foo\n",
    "        self.bar = bar\n",
    "\n",
    "ts = test_state(foo=\"test_foo\", bar=[\"test_bar\"])\n",
    "print(f\"bar type: {type(ts.bar)}\\n state: {ts.__dict__}\")\n",
    "\n",
    "# 若更改数据\n",
    "ts.foo = \"mod_foo\"\n",
    "ts.bar.append(\"mod_bar\")\n",
    "print(f\"{ts.foo}\\n{ts.bar}\")"
   ]
  },
  {
   "cell_type": "markdown",
   "id": "ee0fee23",
   "metadata": {},
   "source": [
    "注意到和 TypedDict 定义的区别了吗？\n",
    "1. 数据引用，TypedDict 采用 `[\"\"]` 方式访问，类采用 `.` 方式访问\n",
    "2. `.` 类访问方式更改 `str` 不起作用"
   ]
  },
  {
   "cell_type": "markdown",
   "id": "b21dcb52",
   "metadata": {},
   "source": [
    "## Working with Messages in Graph State"
   ]
  },
  {
   "cell_type": "markdown",
   "id": "1092bf5a",
   "metadata": {},
   "source": [
    "### 在 Graph 中使用 Messages\n",
    "如果没有指定 reducer 会将消息列表覆盖掉，如果只想将新消息添加到 messages 列表中，可以使用 `operator.add`"
   ]
  },
  {
   "cell_type": "code",
   "execution_count": null,
   "id": "c6f1ca23",
   "metadata": {},
   "outputs": [
    {
     "data": {
      "text/plain": [
       "{'messages': [{'type': 'human', 'content': 'message'}]}"
      ]
     },
     "execution_count": 14,
     "metadata": {},
     "output_type": "execute_result"
    }
   ],
   "source": [
    "# \n",
    "messages: Annotated[list[str], add]\n",
    "\n",
    "from langchain_core.messages import HumanMessage\n",
    "# 官方支持\n",
    "{\"messages\": [HumanMessage(content=\"message\")]}\n",
    "# 同时也支持\n",
    "{\"messages\": [{\"type\": \"human\", \"content\": \"message\"}]}\n",
    "\n",
    "# 两种形式都很常见"
   ]
  },
  {
   "cell_type": "code",
   "execution_count": 15,
   "id": "c3ed2499",
   "metadata": {},
   "outputs": [],
   "source": [
    "# 添加消息方法\n",
    "from langchain_core.messages import AnyMessage\n",
    "from langgraph.graph.message import add_messages\n",
    "from typing import Annotated, TypedDict\n",
    "\n",
    "# 方法一\n",
    "class GraphState(TypedDict):\n",
    "    messages: Annotated[list[AnyMessage], add_messages]\n",
    "\n",
    "# 方法二\n",
    "class GraphStateOther(TypedDict):\n",
    "    messages: list[AnyMessage]\n"
   ]
  },
  {
   "cell_type": "markdown",
   "id": "0bad0ee3",
   "metadata": {},
   "source": [
    "选择哪种方式？ 如果从程序可读性连说，建议选择方法一，直白、明了"
   ]
  },
  {
   "cell_type": "markdown",
   "id": "7422b280",
   "metadata": {},
   "source": [
    "### Message State"
   ]
  },
  {
   "cell_type": "code",
   "execution_count": null,
   "id": "fcfe22be",
   "metadata": {},
   "outputs": [],
   "source": [
    "from langgraph.graph import MessagesState\n",
    "# from operator import add\n",
    "\n",
    "class State(MessagesState):\n",
    "    documents: list[str]\n",
    "    # documents: Annotated[list[str], add]"
   ]
  },
  {
   "cell_type": "markdown",
   "id": "45db0668",
   "metadata": {},
   "source": [
    "# Node\n",
    "`node` 接受以下参数：\n",
    "1. `state`\n",
    "2. `config`：`RunnableConfig`\n",
    "3. `runtime`：`Runtime` - 运行时的上下文和其它信息，如 store 和 stream_writer"
   ]
  },
  {
   "cell_type": "code",
   "execution_count": null,
   "id": "07323249",
   "metadata": {},
   "outputs": [],
   "source": [
    "from dataclasses import dataclass\n",
    "from typing_extensions import TypedDict\n",
    "\n",
    "from langchain_core.runnables import RunnableConfig\n",
    "from langgraph.graph import StateGraph\n",
    "from langgraph.runtime import Runtime\n",
    "\n",
    "class State(TypedDict):\n",
    "    input: str\n",
    "    results: str\n",
    "    \n",
    "@dataclass\n",
    "class Context:\n",
    "    user_id: str\n",
    "\n",
    "def plain_node(state: State) -> State:\n",
    "    return state\n",
    "\n",
    "def node_with_runtime(state: State, runtime: Runtime) -> dict[State, Runtime]:\n",
    "    print(f\"In node: {runtime.context.user_id}\")\n",
    "    return {\"state\": state, \"user_id\": runtime.context.user_id}\n",
    "\n",
    "def node_with_config(state: State, config: RunnableConfig) -> dict[str]:\n",
    "    print(f\"In node with thread_id: {config[\"configurable\"][\"thread_id\"]}\")\n",
    "    return {\"results\": f\"Hello, {state['input']}\"}"
   ]
  },
  {
   "cell_type": "code",
   "execution_count": null,
   "id": "4de9362c",
   "metadata": {},
   "outputs": [
    {
     "data": {
      "image/png": "[encoded data removed]",
      "text/plain": [
       "<IPython.core.display.Image object>"
      ]
     },
     "metadata": {},
     "output_type": "display_data"
    }
   ],
   "source": [
    "builder: StateGraph = StateGraph(State)\n",
    "builder.add_node(\"plain_node\", plain_node)\n",
    "builder.add_node(\"node_with_runtime\", node_with_runtime)\n",
    "builder.add_node(\"node_with_config\", node_with_config)\n",
    "\n",
    "# 知道创建一个完整的Agent Graph还需要添加什么吗？\n",
    "\"\"\"\n",
    "在下方写出你的 Code\n",
    "\"\"\"\n"
   ]
  },
  {
   "cell_type": "code",
   "execution_count": null,
   "id": "045c9ab0",
   "metadata": {},
   "outputs": [],
   "source": [
    "\"\"\"\n",
    "如果实在想不到，在下方填空\n",
    "\"\"\"\n",
    "from langgraph.graph import ____, ____\n",
    "builder.add_edge(START, \"_______\")\n",
    "builder.add_edge(\"_______\", \"_______\")\n",
    "builder.add_edge(\"_______\", \"_______\")\n",
    "builder.add_edge(\"_______\", END)\n",
    "\n",
    "# 创建图\n",
    "from IPython.display import Image, display\n",
    "display(Image(builder.compile().get_graph().draw_mermaid_png()))"
   ]
  },
  {
   "cell_type": "markdown",
   "id": "c2875d20",
   "metadata": {},
   "source": [
    "## `START` Node"
   ]
  },
  {
   "cell_type": "code",
   "execution_count": null,
   "id": "147047fb",
   "metadata": {},
   "outputs": [],
   "source": [
    "from langgraph.graph import START\n",
    "\n",
    "graph.add_edge(START, \"node_a\")"
   ]
  },
  {
   "cell_type": "markdown",
   "id": "c32d9c1e",
   "metadata": {},
   "source": [
    "## `END` Node"
   ]
  },
  {
   "cell_type": "code",
   "execution_count": null,
   "id": "59366377",
   "metadata": {},
   "outputs": [],
   "source": [
    "from langgraph.graph import END\n",
    "\n",
    "graph.add_edge(\"node_a\", END)"
   ]
  },
  {
   "cell_type": "markdown",
   "id": "27bd383f",
   "metadata": {},
   "source": [
    "## Node 缓存\n",
    "- `compile` 图时 或 指定入口节点 指定缓存\n",
    "- 指定节点的缓存策略\n",
    "- `ttl` 为缓存的生存时间（以秒为单位）。如果未指定，则缓存永不过期。"
   ]
  },
  {
   "cell_type": "code",
   "execution_count": 21,
   "id": "60dcfa17",
   "metadata": {},
   "outputs": [
    {
     "name": "stdout",
     "output_type": "stream",
     "text": [
      "[{'expensive_node': {'result': 10}}]\n",
      "[{'expensive_node': {'result': 10}, '__metadata__': {'cached': True}}]\n"
     ]
    }
   ],
   "source": [
    "import time\n",
    "\n",
    "from typing_extensions import TypedDict\n",
    "from langgraph.graph import StateGraph\n",
    "from langgraph.cache.memory import InMemoryCache\n",
    "from langgraph.types import CachePolicy\n",
    "\n",
    "class State(TypedDict):\n",
    "    x: int\n",
    "    result: int\n",
    "    \n",
    "builder = StateGraph(State)\n",
    "\n",
    "def expensive_node(state: State) -> dict[str, int]:\n",
    "    time.sleep(2)\n",
    "    return {\"result\": state[\"x\"] * 2}\n",
    "\n",
    "builder.add_node(\"expensive_node\", expensive_node, cache_policy=CachePolicy(ttl=3))\n",
    "builder.set_entry_point(\"expensive_node\")\n",
    "builder.set_finish_point(\"expensive_node\")\n",
    "\n",
    "graph = builder.compile(cache=InMemoryCache())\n",
    "\n",
    "print(graph.invoke({\"x\": 5}, stream_mode=\"updates\"))\n",
    "print(graph.invoke({\"x\": 5}, stream_mode=\"updates\"))\n"
   ]
  }
 ],
 "metadata": {
  "kernelspec": {
   "display_name": "Python 3",
   "language": "python",
   "name": "python3"
  },
  "language_info": {
   "codemirror_mode": {
    "name": "ipython",
    "version": 3
   },
   "file_extension": ".py",
   "mimetype": "text/x-python",
   "name": "python",
   "nbconvert_exporter": "python",
   "pygments_lexer": "ipython3",
   "version": "3.12.10"
  }
 },
 "nbformat": 4,
 "nbformat_minor": 5
}
