{
 "cells": [
  {
   "cell_type": "markdown",
   "id": "4d75e159",
   "metadata": {},
   "source": [
    "# Graphs"
   ]
  },
  {
   "cell_type": "code",
   "execution_count": 1,
   "id": "6bc2317f",
   "metadata": {},
   "outputs": [],
   "source": [
    "from typing_extensions import TypedDict\n",
    "\n",
    "class State(TypedDict):\n",
    "    \"\"\"Agent状态定义\"\"\"\n",
    "    foo: str = \"test_foo\"\n",
    "    bar: list[str] = [\"test_bar\"]"
   ]
  },
  {
   "cell_type": "markdown",
   "id": "b6caa478",
   "metadata": {},
   "source": [
    "多结构 schemas"
   ]
  },
  {
   "cell_type": "code",
   "execution_count": 2,
   "id": "03406797",
   "metadata": {},
   "outputs": [],
   "source": [
    "from langgraph.graph import StateGraph, START, END\n",
    "\n",
    "class InputState(TypedDict):\n",
    "    \"\"\"Agent输入状态定义\"\"\"\n",
    "    user_input: str\n",
    "\n",
    "class OutputState(TypedDict):\n",
    "    \"\"\"Agent输出状态定义\"\"\"\n",
    "    graph_output: str\n",
    "    \n",
    "class OverallState(TypedDict):\n",
    "    \"\"\"\"\"\"\n",
    "    foo: str\n",
    "    user_input: str\n",
    "    graph_output: str\n",
    "    \n",
    "class PrivateState(TypedDict):\n",
    "    bar: str\n",
    "    \n",
    "def node_1(state: InputState) -> OverallState:\n",
    "    return {\"foo\": state[\"user_input\"] + \" name\"}\n",
    "\n",
    "def node_2(state: OutputState) -> PrivateState:\n",
    "    return {\"bar\": state[\"foo\"] + \" is\"}\n",
    "\n",
    "def node_3(state: PrivateState) -> OutputState:\n",
    "    return {\"graph_output\": state[\"bar\"] + \" Lance\"}\n",
    "\n",
    "builder = StateGraph(OverallState, input_shema=InputState, output_schema=OutputState)\n",
    "builder.add_node(\"node_1\", node_1)\n",
    "builder.add_node(\"node_2\", node_2)\n",
    "builder.add_node(\"node_3\", node_3)\n",
    "\n",
    "builder.add_edge(START, \"node_1\")\n",
    "builder.add_edge(\"node_1\", \"node_2\")\n",
    "builder.add_edge(\"node_2\", \"node_3\")\n",
    "builder.add_edge(\"node_3\", END)\n",
    "graph = builder.compile()"
   ]
  },
  {
   "cell_type": "code",
   "execution_count": 3,
   "id": "947bf984",
   "metadata": {},
   "outputs": [
    {
     "data": {
      "image/png": "[encoded data removed]",
      "text/plain": [
       "<IPython.core.display.Image object>"
      ]
     },
     "metadata": {},
     "output_type": "display_data"
    }
   ],
   "source": [
    "# 输出图\n",
    "from IPython.display import Image, display\n",
    "display(Image(graph.get_graph().draw_mermaid_png()))\n",
    "\n",
    "# png_data = graph.get_graph().draw_mermaid_png()\n",
    "# with open(\"graph.png\", \"wb\") as f:\n",
    "#     f.write(png_data)"
   ]
  },
  {
   "cell_type": "markdown",
   "id": "f32d6877",
   "metadata": {},
   "source": [
    "State创建示例"
   ]
  },
  {
   "cell_type": "code",
   "execution_count": 9,
   "id": "7ae4cc2b",
   "metadata": {},
   "outputs": [
    {
     "name": "stdout",
     "output_type": "stream",
     "text": [
      "bar type: <class 'list'>\n",
      " state: {'foo': 'test_foo', 'bar': ['test_bar']}\n"
     ]
    }
   ],
   "source": [
    "# example 1\n",
    "from typing_extensions import TypedDict\n",
    "\n",
    "class State(TypedDict):\n",
    "    foo: str\n",
    "    bar: list[str]\n",
    "\n",
    "state = State(foo=\"test_foo\", bar=[\"test_bar\"])\n",
    "print(f\"bar type: {type(state[\"bar\"])}\\n state: {state}\")"
   ]
  },
  {
   "cell_type": "code",
   "execution_count": null,
   "id": "1386da56",
   "metadata": {},
   "outputs": [
    {
     "name": "stdout",
     "output_type": "stream",
     "text": [
      "bar type: <class 'list'>\n",
      " state: {'foo': 'test_foo', 'bar': ['test_bar']}\n"
     ]
    }
   ],
   "source": [
    "# example 2\n",
    "from typing import Annotated\n",
    "from typing_extensions import TypedDict\n",
    "# or\n",
    "# from typing import TypedDict\n",
    "from operator import add\n",
    "\n",
    "class State(TypedDict):\n",
    "    foo: str\n",
    "    bar: Annotated[list[str], add]\n",
    "\n",
    "state = State(foo=\"test_foo\", bar=[\"test_bar\"])\n",
    "print(f\"bar type: {type(state[\"bar\"])}\\n state: {state}\")\n"
   ]
  },
  {
   "cell_type": "code",
   "execution_count": 15,
   "id": "2bf2c466",
   "metadata": {},
   "outputs": [
    {
     "name": "stdout",
     "output_type": "stream",
     "text": [
      "{'foo': 'mod_foo', 'bar': ['mod_bar']}\n"
     ]
    }
   ],
   "source": [
    "# 更改数据\n",
    "state[\"foo\"] = \"mod_foo\"\n",
    "state[\"bar\"] = [\"mod_bar\"]\n",
    "print(state)"
   ]
  },
  {
   "cell_type": "code",
   "execution_count": null,
   "id": "a13b2a66",
   "metadata": {},
   "outputs": [
    {
     "name": "stdout",
     "output_type": "stream",
     "text": [
      "bar type: <class 'list'>\n",
      " state: {'foo': 'test_foo', 'bar': ['test_bar']}\n",
      "mod_foo\n",
      "['test_bar', 'mod_bar']\n"
     ]
    }
   ],
   "source": [
    "# 非 State 状态定义\n",
    "class test_state():\n",
    "    def __init__(self, foo: str, bar: list[str]) -> None:\n",
    "        self.foo = foo\n",
    "        self.bar = bar\n",
    "\n",
    "ts = test_state(foo=\"test_foo\", bar=[\"test_bar\"])\n",
    "print(f\"bar type: {type(ts.bar)}\\n state: {ts.__dict__}\")\n",
    "\n",
    "# 若更改数据\n",
    "ts.foo = \"mod_foo\"\n",
    "ts.bar.append(\"mod_bar\")\n",
    "print(f\"{ts.foo}\\n{ts.bar}\")"
   ]
  },
  {
   "cell_type": "markdown",
   "id": "ee0fee23",
   "metadata": {},
   "source": [
    "注意到和 TypedDict 定义的区别了吗？\n",
    "1. 数据引用，TypedDict 采用[\"\"] 方式访问，类采用 `.` 方式访问\n",
    "2. `.` 类访问方式更改 `str` 不起作用"
   ]
  }
 ],
 "metadata": {
  "kernelspec": {
   "display_name": "Python 3",
   "language": "python",
   "name": "python3"
  },
  "language_info": {
   "codemirror_mode": {
    "name": "ipython",
    "version": 3
   },
   "file_extension": ".py",
   "mimetype": "text/x-python",
   "name": "python",
   "nbconvert_exporter": "python",
   "pygments_lexer": "ipython3",
   "version": "3.12.10"
  }
 },
 "nbformat": 4,
 "nbformat_minor": 5
}
