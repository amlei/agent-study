{
 "cells": [
  {
   "cell_type": "markdown",
   "id": "abe388e1",
   "metadata": {},
   "source": [
    "开发流程（随着进一步学习变化）：\n",
    "1. 创建LLM Model\n",
    "2. State创建\n",
    "3. Node 节点编写（ReAct架构，根据项目结构包含：Agent开始前和处理后的节点）\n",
    "4. Tool构建\n",
    "5. Edge 连接\n",
    "6. Compile\n",
    "7. Prompt设计\n"
   ]
  },
  {
   "cell_type": "markdown",
   "id": "4dd05d08",
   "metadata": {},
   "source": [
    "# Import package"
   ]
  },
  {
   "cell_type": "markdown",
   "id": "47bf7354",
   "metadata": {},
   "source": [
    "会根据需要用到时再导入，避免学习陷入不知道该库何时使用，而手足无措"
   ]
  },
  {
   "cell_type": "code",
   "execution_count": null,
   "id": "3431f14c",
   "metadata": {},
   "outputs": [
    {
     "data": {
      "text/plain": [
       "True"
      ]
     },
     "execution_count": 5,
     "metadata": {},
     "output_type": "execute_result"
    }
   ],
   "source": [
    "import os\n",
    "from dotenv import load_dotenv\n",
    "from pydantic import Secret\n",
    "from langchain_community.chat_models.tongyi import ChatTongyi\n",
    "\n",
    "load_dotenv()"
   ]
  },
  {
   "cell_type": "markdown",
   "id": "08c20cc8",
   "metadata": {},
   "source": [
    "## LLM创建"
   ]
  },
  {
   "cell_type": "code",
   "execution_count": null,
   "id": "74fe521e",
   "metadata": {},
   "outputs": [],
   "source": [
    "llms = ChatTongyi(\n",
    "    model=\"qwen-plus\",\n",
    "    temperature=0.7,\n",
    "    api_key=Secret(os.getenv(\"DASHSCOPE_API_KEY\", \"\"))\n",
    ")"
   ]
  },
  {
   "cell_type": "markdown",
   "id": "42ff84c6",
   "metadata": {},
   "source": [
    "## 创建State"
   ]
  },
  {
   "cell_type": "code",
   "execution_count": 7,
   "id": "0fbe22b7",
   "metadata": {},
   "outputs": [],
   "source": [
    "from typing import TypedDict\n",
    "\n",
    "class AgentState(TypedDict):\n",
    "    \"\"\"Agent状态定义\"\"\"\n",
    "    messages: list[dict[str, str]]\n",
    "    context: dict[str, str]"
   ]
  },
  {
   "cell_type": "markdown",
   "id": "24c65143",
   "metadata": {},
   "source": [
    "## Node创建"
   ]
  },
  {
   "cell_type": "markdown",
   "id": "81be1b5e",
   "metadata": {},
   "source": [
    "因为这是一个ReAct设计，需要包含：call_model"
   ]
  },
  {
   "cell_type": "code",
   "execution_count": null,
   "id": "d3b7b0d6",
   "metadata": {},
   "outputs": [],
   "source": []
  }
 ],
 "metadata": {
  "kernelspec": {
   "display_name": "Python 3",
   "language": "python",
   "name": "python3"
  },
  "language_info": {
   "codemirror_mode": {
    "name": "ipython",
    "version": 3
   },
   "file_extension": ".py",
   "mimetype": "text/x-python",
   "name": "python",
   "nbconvert_exporter": "python",
   "pygments_lexer": "ipython3",
   "version": "3.13.3"
  }
 },
 "nbformat": 4,
 "nbformat_minor": 5
}
